{
 "cells": [
  {
   "cell_type": "markdown",
   "id": "1af3e459",
   "metadata": {},
   "source": [
    "BIBLIOTECAS"
   ]
  },
  {
   "cell_type": "code",
   "execution_count": 1,
   "id": "6c112116",
   "metadata": {},
   "outputs": [],
   "source": [
    "import pandas as pd\n",
    "import numpy as np\n",
    "import sys\n",
    "import matplotlib.pyplot as plt\n",
    "import glob"
   ]
  },
  {
   "cell_type": "markdown",
   "id": "d207864b",
   "metadata": {},
   "source": [
    "Configurações e carregamento do CSV"
   ]
  },
  {
   "cell_type": "code",
   "execution_count": 2,
   "id": "d306a369",
   "metadata": {},
   "outputs": [
    {
     "name": "stdout",
     "output_type": "stream",
     "text": [
      "\n",
      "=== Arquivo carregado com sucesso! ===\n",
      "Dimensões (linhas, colunas): (3245632, 11)\n"
     ]
    }
   ],
   "source": [
    "# Configurações Iniciais\n",
    "plt.style.use('ggplot')\n",
    "pd.set_option('display.max_columns', None)\n",
    "\n",
    "# 1) Carregar e concatenar os dados dos processos judiciais da pasta uploads\n",
    "# Listar os arquivos CSV na pasta 'uploads'\n",
    "arquivos_csv = glob.glob('../uploads/processos_*.csv')\n",
    "\n",
    "# Carregar os arquivos CSV e concatenar em um único DataFrame\n",
    "dfs = []\n",
    "for arquivo in arquivos_csv:\n",
    "    # Extrair o ano do nome do arquivo\n",
    "    ano = int(arquivo.split('_')[-1].split('.')[0])\n",
    "    df_ano = pd.read_csv(arquivo, sep=',', encoding='utf-8')\n",
    "    df_ano['ano_arquivo'] = ano  # Adicionar coluna com o ano do arquivo\n",
    "    dfs.append(df_ano)\n",
    "\n",
    "df = pd.concat(dfs, ignore_index=True)\n",
    "\n",
    "print(\"\\n=== Arquivo carregado com sucesso! ===\")\n",
    "print(\"Dimensões (linhas, colunas):\", df.shape)\n",
    "\n",
    "# Guardar uma cópia de trabalho\n",
    "df_cp = df.copy()"
   ]
  },
  {
   "cell_type": "markdown",
   "id": "c49e1ebb",
   "metadata": {},
   "source": [
    "Pré-processamento dos dados"
   ]
  },
  {
   "cell_type": "markdown",
   "id": "96cc60db",
   "metadata": {},
   "source": [
    "Visualizar as 5 primeiras linhas do dataset"
   ]
  },
  {
   "cell_type": "code",
   "execution_count": 3,
   "id": "ceb1d910",
   "metadata": {},
   "outputs": [
    {
     "name": "stdout",
     "output_type": "stream",
     "text": [
      "\n",
      " Primeiras linhas:\n"
     ]
    },
    {
     "data": {
      "text/html": [
       "<div>\n",
       "<style scoped>\n",
       "    .dataframe tbody tr th:only-of-type {\n",
       "        vertical-align: middle;\n",
       "    }\n",
       "\n",
       "    .dataframe tbody tr th {\n",
       "        vertical-align: top;\n",
       "    }\n",
       "\n",
       "    .dataframe thead th {\n",
       "        text-align: right;\n",
       "    }\n",
       "</style>\n",
       "<table border=\"1\" class=\"dataframe\">\n",
       "  <thead>\n",
       "    <tr style=\"text-align: right;\">\n",
       "      <th></th>\n",
       "      <th>processo</th>\n",
       "      <th>data_distribuicao</th>\n",
       "      <th>data_baixa</th>\n",
       "      <th>entrancia</th>\n",
       "      <th>comarca</th>\n",
       "      <th>serventia</th>\n",
       "      <th>nome_area_acao</th>\n",
       "      <th>is_segredo_justica</th>\n",
       "      <th>codg_classe</th>\n",
       "      <th>codg_assuntos</th>\n",
       "      <th>ano_arquivo</th>\n",
       "    </tr>\n",
       "  </thead>\n",
       "  <tbody>\n",
       "    <tr>\n",
       "      <th>0</th>\n",
       "      <td>0119071.75.2004.8.09.0051</td>\n",
       "      <td>2022-05-25</td>\n",
       "      <td>2022-06-30</td>\n",
       "      <td>FINAL</td>\n",
       "      <td>GOIÂNIA</td>\n",
       "      <td>2ª Vara Cível</td>\n",
       "      <td>upj civel</td>\n",
       "      <td>False</td>\n",
       "      <td>7.0</td>\n",
       "      <td>10671</td>\n",
       "      <td>2022</td>\n",
       "    </tr>\n",
       "    <tr>\n",
       "      <th>1</th>\n",
       "      <td>0168391.94.2004.8.09.0051</td>\n",
       "      <td>2022-05-20</td>\n",
       "      <td>2022-05-20</td>\n",
       "      <td>FINAL</td>\n",
       "      <td>GOIÂNIA</td>\n",
       "      <td>3ª Vara Cível</td>\n",
       "      <td>upj civel</td>\n",
       "      <td>False</td>\n",
       "      <td>7.0</td>\n",
       "      <td>10671</td>\n",
       "      <td>2022</td>\n",
       "    </tr>\n",
       "    <tr>\n",
       "      <th>2</th>\n",
       "      <td>0189657.40.2004.8.09.0051</td>\n",
       "      <td>2022-06-02</td>\n",
       "      <td>2024-01-22</td>\n",
       "      <td>FINAL</td>\n",
       "      <td>GOIÂNIA</td>\n",
       "      <td>31ª Vara Cível</td>\n",
       "      <td>upj civel</td>\n",
       "      <td>False</td>\n",
       "      <td>7.0</td>\n",
       "      <td>10671</td>\n",
       "      <td>2022</td>\n",
       "    </tr>\n",
       "    <tr>\n",
       "      <th>3</th>\n",
       "      <td>0197944.89.2004.8.09.0051</td>\n",
       "      <td>2022-06-07</td>\n",
       "      <td>2022-10-07</td>\n",
       "      <td>FINAL</td>\n",
       "      <td>GOIÂNIA</td>\n",
       "      <td>22ª Vara Cível</td>\n",
       "      <td>upj civel</td>\n",
       "      <td>False</td>\n",
       "      <td>7.0</td>\n",
       "      <td>10671</td>\n",
       "      <td>2022</td>\n",
       "    </tr>\n",
       "    <tr>\n",
       "      <th>4</th>\n",
       "      <td>0211274.56.2004.8.09.0051</td>\n",
       "      <td>2022-06-09</td>\n",
       "      <td>2022-08-03</td>\n",
       "      <td>FINAL</td>\n",
       "      <td>GOIÂNIA</td>\n",
       "      <td>8ª Vara Cível</td>\n",
       "      <td>upj civel</td>\n",
       "      <td>False</td>\n",
       "      <td>7.0</td>\n",
       "      <td>10671</td>\n",
       "      <td>2022</td>\n",
       "    </tr>\n",
       "  </tbody>\n",
       "</table>\n",
       "</div>"
      ],
      "text/plain": [
       "                    processo data_distribuicao  data_baixa entrancia  comarca  \\\n",
       "0  0119071.75.2004.8.09.0051        2022-05-25  2022-06-30     FINAL  GOIÂNIA   \n",
       "1  0168391.94.2004.8.09.0051        2022-05-20  2022-05-20     FINAL  GOIÂNIA   \n",
       "2  0189657.40.2004.8.09.0051        2022-06-02  2024-01-22     FINAL  GOIÂNIA   \n",
       "3  0197944.89.2004.8.09.0051        2022-06-07  2022-10-07     FINAL  GOIÂNIA   \n",
       "4  0211274.56.2004.8.09.0051        2022-06-09  2022-08-03     FINAL  GOIÂNIA   \n",
       "\n",
       "        serventia nome_area_acao  is_segredo_justica  codg_classe  \\\n",
       "0   2ª Vara Cível      upj civel               False          7.0   \n",
       "1   3ª Vara Cível      upj civel               False          7.0   \n",
       "2  31ª Vara Cível      upj civel               False          7.0   \n",
       "3  22ª Vara Cível      upj civel               False          7.0   \n",
       "4   8ª Vara Cível      upj civel               False          7.0   \n",
       "\n",
       "  codg_assuntos  ano_arquivo  \n",
       "0         10671         2022  \n",
       "1         10671         2022  \n",
       "2         10671         2022  \n",
       "3         10671         2022  \n",
       "4         10671         2022  "
      ]
     },
     "metadata": {},
     "output_type": "display_data"
    }
   ],
   "source": [
    "print(\"\\n Primeiras linhas:\")\n",
    "display(df.head())"
   ]
  },
  {
   "cell_type": "markdown",
   "id": "36f634c2",
   "metadata": {},
   "source": [
    "Verificar o nome das colunas e tipos de dados"
   ]
  },
  {
   "cell_type": "code",
   "execution_count": 4,
   "id": "27d1ad89",
   "metadata": {},
   "outputs": [
    {
     "name": "stdout",
     "output_type": "stream",
     "text": [
      "\n",
      " Informações do DataFrame:\n",
      "<class 'pandas.core.frame.DataFrame'>\n",
      "RangeIndex: 3245632 entries, 0 to 3245631\n",
      "Data columns (total 11 columns):\n",
      " #   Column              Dtype  \n",
      "---  ------              -----  \n",
      " 0   processo            object \n",
      " 1   data_distribuicao   object \n",
      " 2   data_baixa          object \n",
      " 3   entrancia           object \n",
      " 4   comarca             object \n",
      " 5   serventia           object \n",
      " 6   nome_area_acao      object \n",
      " 7   is_segredo_justica  bool   \n",
      " 8   codg_classe         float64\n",
      " 9   codg_assuntos       object \n",
      " 10  ano_arquivo         int64  \n",
      "dtypes: bool(1), float64(1), int64(1), object(8)\n",
      "memory usage: 250.7+ MB\n"
     ]
    },
    {
     "data": {
      "text/plain": [
       "None"
      ]
     },
     "metadata": {},
     "output_type": "display_data"
    }
   ],
   "source": [
    "print(\"\\n Informações do DataFrame:\")\n",
    "display(df_cp.info())"
   ]
  },
  {
   "cell_type": "markdown",
   "id": "56361c37",
   "metadata": {},
   "source": [
    "Verificar Área de Ação"
   ]
  },
  {
   "cell_type": "code",
   "execution_count": 5,
   "id": "420939b4",
   "metadata": {},
   "outputs": [
    {
     "name": "stdout",
     "output_type": "stream",
     "text": [
      "Valores únicos e contagem:\n"
     ]
    },
    {
     "data": {
      "text/plain": [
       "nome_area_acao\n",
       "juizado especial civel                             355174\n",
       "upj civel                                          334954\n",
       "civel                                              295564\n",
       "criminal                                           278803\n",
       "upj dos juizados especiais civeis                  242021\n",
       "fazenda publica mista                              220587\n",
       "camara civel                                       180590\n",
       "familia - interior                                 175512\n",
       "upj criminal                                       115936\n",
       "preprocessual                                       91691\n",
       "juizado especial criminal                           86404\n",
       "upj juizado especial da fazenda publica             85555\n",
       "upj familia interior                                80952\n",
       "juizado especial fazenda publica                    75216\n",
       "fazenda publica municipal - execucao fiscal         63010\n",
       "upj familia                                         61042\n",
       "upj fazenda publica estadual                        53800\n",
       "camara criminal                                     50707\n",
       "upj juizado especial criminal                       48499\n",
       "upj de violencia domestica                          47211\n",
       "juizado de violencia domestica                      44234\n",
       "juizado especial civel e criminal                   39528\n",
       "upj fazenda publica municipal - execucao fiscal     34624\n",
       "infancia e juventude civel                          30040\n",
       "infancia e juventude infracional                    25602\n",
       "fazenda publica mista  execucao fiscal             20223\n",
       "upj varas das garantias                             15224\n",
       "fazenda publica estadual interior                   14207\n",
       "upj fazenda publica municipal                       10883\n",
       "precatoria                                          10644\n",
       "upj sucessoes                                        9454\n",
       "fazenda publica municipal interior                   9140\n",
       "upj fazenda publica estadual - execucao fiscal       8348\n",
       "fazenda publica estadual                             8259\n",
       "secao civel                                          6624\n",
       "secao criminal                                       4049\n",
       "auditoria militar criminal                           3459\n",
       "fazenda publica estadual - execucao fiscal           3292\n",
       "upj fazenda publica municipal,estadual e fiscal      2833\n",
       "orgao especial                                       1539\n",
       "fazenda publica municipal                             111\n",
       "auditoria militar civel                                53\n",
       "execucao de pena alternativa                           28\n",
       "execucao penal                                          5\n",
       "upj turma recursal                                      1\n",
       "Name: count, dtype: int64"
      ]
     },
     "metadata": {},
     "output_type": "display_data"
    },
    {
     "name": "stdout",
     "output_type": "stream",
     "text": [
      "\n",
      "Valores únicos:\n"
     ]
    },
    {
     "data": {
      "text/plain": [
       "array(['upj civel', 'civel', 'upj fazenda publica estadual',\n",
       "       'upj criminal', 'juizado especial criminal',\n",
       "       'upj de violencia domestica', 'upj varas das garantias',\n",
       "       'upj juizado especial criminal', 'criminal',\n",
       "       'juizado de violencia domestica', 'camara criminal',\n",
       "       'fazenda publica mista', 'upj familia interior',\n",
       "       'juizado especial civel e criminal',\n",
       "       'upj dos juizados especiais civeis', 'camara civel', 'upj familia',\n",
       "       'precatoria', 'juizado especial fazenda publica',\n",
       "       'upj juizado especial da fazenda publica',\n",
       "       'juizado especial civel', 'familia - interior',\n",
       "       'execucao de pena alternativa', 'fazenda publica estadual',\n",
       "       'upj fazenda publica municipal',\n",
       "       'infancia e juventude infracional', 'upj sucessoes',\n",
       "       'infancia e juventude civel',\n",
       "       'fazenda publica municipal - execucao fiscal',\n",
       "       'fazenda publica estadual interior', 'preprocessual',\n",
       "       'orgao especial', 'secao criminal', 'auditoria militar criminal',\n",
       "       'upj fazenda publica municipal,estadual e fiscal',\n",
       "       'fazenda publica mista \\x96 execucao fiscal',\n",
       "       'upj fazenda publica estadual - execucao fiscal',\n",
       "       'upj fazenda publica municipal - execucao fiscal', 'secao civel',\n",
       "       'fazenda publica estadual - execucao fiscal',\n",
       "       'fazenda publica municipal interior', 'fazenda publica municipal',\n",
       "       'auditoria militar civel', 'execucao penal', 'upj turma recursal'],\n",
       "      dtype=object)"
      ]
     },
     "metadata": {},
     "output_type": "display_data"
    },
    {
     "name": "stdout",
     "output_type": "stream",
     "text": [
      "\n",
      "Total de valores únicos: 45\n"
     ]
    }
   ],
   "source": [
    "# Ver valores únicos e sua frequência\n",
    "print(\"Valores únicos e contagem:\")\n",
    "display(df['nome_area_acao'].value_counts())\n",
    "\n",
    "print(\"\\nValores únicos:\")\n",
    "display(df['nome_area_acao'].unique())\n",
    "\n",
    "print(f\"\\nTotal de valores únicos: {df['nome_area_acao'].nunique()}\")"
   ]
  },
  {
   "cell_type": "markdown",
   "id": "2a38f529",
   "metadata": {},
   "source": [
    "Verificar Comarcas"
   ]
  },
  {
   "cell_type": "code",
   "execution_count": 6,
   "id": "b917c4bb",
   "metadata": {},
   "outputs": [
    {
     "name": "stdout",
     "output_type": "stream",
     "text": [
      "Valores únicos e contagem:\n"
     ]
    },
    {
     "data": {
      "text/plain": [
       "comarca\n",
       "GOIÂNIA                 861283\n",
       "TRIBUNAL DE JUSTIÇA     243546\n",
       "APARECIDA DE GOIÂNIA    210175\n",
       "ANÁPOLIS                194655\n",
       "RIO VERDE                92488\n",
       "                         ...  \n",
       "MOSSÂMEDES                2981\n",
       "PARANAIGUARA              2897\n",
       "JOVIÂNIA                  2628\n",
       "ITAUÇU                    2360\n",
       "AURILÂNDIA                1896\n",
       "Name: count, Length: 119, dtype: int64"
      ]
     },
     "metadata": {},
     "output_type": "display_data"
    },
    {
     "name": "stdout",
     "output_type": "stream",
     "text": [
      "\n",
      "Valores únicos:\n"
     ]
    },
    {
     "data": {
      "text/plain": [
       "array(['GOIÂNIA', 'QUIRINÓPOLIS', 'APARECIDA DE GOIÂNIA', 'TRINDADE',\n",
       "       'MOZARLÂNDIA', 'RIO VERDE', 'CIDADE OCIDENTAL', 'LUZIÂNIA',\n",
       "       'JATAÍ', 'ÁGUAS LINDAS DE GOIÁS', 'PIRACANJUBA', 'CATALÃO',\n",
       "       'SENADOR CANEDO', 'ANÁPOLIS', 'TRIBUNAL DE JUSTIÇA', 'PORANGATU',\n",
       "       'PARAÚNA', 'VALPARAÍSO DE GOIÁS', 'GOIANÁPOLIS', 'MINAÇU', 'IPORÁ',\n",
       "       'URUAÇU', 'ALVORADA DO NORTE', 'ARAGARÇAS',\n",
       "       'ALTO PARAÍSO DE GOIÁS', 'CAVALCANTE', 'CACHOEIRA ALTA',\n",
       "       'BOM JESUS DE GOIÁS', 'SANTA HELENA DE GOIÁS', 'NOVO GAMA',\n",
       "       'SANTO ANTÔNIO DO DESCOBERTO', 'MONTIVIDIU', 'FORMOSA',\n",
       "       'PLANALTINA', 'PIRENÓPOLIS', 'ITUMBIARA', 'IPAMERI', 'ITAPURANGA',\n",
       "       'CALDAS NOVAS', 'GOIATUBA', 'ALEXÂNIA', 'GOIANIRA', 'RUBIATABA',\n",
       "       'ARUANÃ', 'MORRINHOS', 'PALMEIRAS DE GOIÁS', 'NAZÁRIO',\n",
       "       'NERÓPOLIS', 'SÃO LUÍS DE MONTES BELOS', 'ITABERAÍ', 'GOIANÉSIA',\n",
       "       'SÃO DOMINGOS', 'PIRES DO RIO', 'PONTALINA', 'HIDROLÂNDIA',\n",
       "       'GUAPÓ', 'GOIÁS', 'CAÇU', 'SERRANÓPOLIS', 'SÃO SIMÃO', 'ABADIÂNIA',\n",
       "       'ORIZONA', 'NOVA CRIXÁS', 'SÃO MIGUEL DO ARAGUAIA', 'JANDAIA',\n",
       "       'CERES', 'MONTES CLAROS DE GOIÁS', 'POSSE', 'INHUMAS', 'PIRANHAS',\n",
       "       'JARAGUÁ', 'CAIAPÔNIA', 'URUANA', 'ACREÚNA', 'MAURILÂNDIA',\n",
       "       'RIALMA', 'CRIXÁS', 'ANICUNS', 'CORUMBÁ DE GOIÁS', 'CAMPINORTE',\n",
       "       'AURILÂNDIA', 'BURITI ALEGRE', 'CAMPOS BELOS', 'IACIARA',\n",
       "       'CORUMBAÍBA', 'MINEIROS', 'MOSSÂMEDES', 'FORMOSO',\n",
       "       'TAQUARAL DE GOIÁS', 'CRISTALINA', 'ITAPACI', 'SANCLERLÂNDIA',\n",
       "       'JUSSARA', 'FIRMINÓPOLIS', 'NIQUELÂNDIA',\n",
       "       'SANTA TEREZINHA DE GOIÁS', 'ITAJÁ', 'ITAPIRAPUÃ', 'MARA ROSA',\n",
       "       'ARAÇU', 'PARANAIGUARA', 'ESTRELA DO NORTE', 'PADRE BERNARDO',\n",
       "       'BELA VISTA DE GOIÁS', 'BARRO ALTO', 'FAZENDA NOVA',\n",
       "       'LEOPOLDO DE BULHÕES', 'ITAUÇU', 'GOIANDIRA', 'EDÉIA',\n",
       "       'VIANÓPOLIS', 'FLORES DE GOIÁS', 'COCALZINHO DE GOIÁS',\n",
       "       'PETROLINA DE GOIÁS', 'SILVÂNIA', 'JOVIÂNIA', 'TURVÂNIA',\n",
       "       'SANTA CRUZ DE GOIÁS', 'VARJÃO'], dtype=object)"
      ]
     },
     "metadata": {},
     "output_type": "display_data"
    },
    {
     "name": "stdout",
     "output_type": "stream",
     "text": [
      "\n",
      "Total de valores únicos: 119\n"
     ]
    }
   ],
   "source": [
    "# Ver todas as comarcas disponíveis e sua frequência\n",
    "print(\"Valores únicos e contagem:\")\n",
    "display(df_cp['comarca'].value_counts())\n",
    "\n",
    "print(\"\\nValores únicos:\")\n",
    "display(df_cp['comarca'].unique())\n",
    "\n",
    "print(f\"\\nTotal de valores únicos: {df_cp['comarca'].nunique()}\")"
   ]
  },
  {
   "cell_type": "markdown",
   "id": "18f112cd",
   "metadata": {},
   "source": [
    "Verificar Anos de Distribuição"
   ]
  },
  {
   "cell_type": "code",
   "execution_count": null,
   "id": "f057dea7",
   "metadata": {},
   "outputs": [
    {
     "data": {
      "text/plain": [
       "array([2024, 2020, 2021, 2023, 2022], dtype=int32)"
      ]
     },
     "metadata": {},
     "output_type": "display_data"
    }
   ],
   "source": [
    "df['data_distribuicao'] = pd.to_datetime(df['data_distribuicao'], errors='coerce')\n",
    "resultado = df['data_distribuicao'].dt.year.unique()\n",
    "display(resultado)"
   ]
  },
  {
   "cell_type": "markdown",
   "id": "1d50d1b9",
   "metadata": {},
   "source": [
    "Pré-processamento dos dados"
   ]
  },
  {
   "cell_type": "code",
   "execution_count": null,
   "id": "a47f7538",
   "metadata": {},
   "outputs": [],
   "source": [
    "# Converter colunas de data para datetime com tratamento de erros\n",
    "df['data_distribuicao'] = pd.to_datetime(df['data_distribuicao'], errors='coerce')\n",
    "df['data_baixa'] = pd.to_datetime(df['data_baixa'], errors='coerce')\n",
    "\n",
    "# Extração de valores únicos das comarcas\n",
    "comarcas = df['comarca'].unique()\n",
    "\n",
    "# Extração dos anos únicos na coluna de data de distribuição\n",
    "anos = df['data_distribuicao'].dt.year.unique()"
   ]
  },
  {
   "cell_type": "markdown",
   "id": "2d5c0596",
   "metadata": {},
   "source": [
    "Calcular Taxa de Congestionamento"
   ]
  },
  {
   "cell_type": "code",
   "execution_count": null,
   "id": "9a5f8ad1",
   "metadata": {},
   "outputs": [],
   "source": [
    "# Função que realiza todos os cálculos por Comarca e Ano selecionado\n",
    "\n",
    "def estatisticas (comarca, ano_selecionado):\n",
    "\n",
    "    # Filtrar pela comarca\n",
    "    df_comarca = df[df['comarca'] == comarca]\n",
    "                \n",
    "    # Filtrar processos distribuídos no ano selecionado\n",
    "    df_ano = df_comarca[df_comarca['data_distribuicao'].dt.year == ano_selecionado]\n",
    "                \n",
    "    # Agrupar por nome_area_acao\n",
    "    estatisticas = df_ano.groupby(['nome_area_acao']).agg(\n",
    "        Distribuídos=('data_distribuicao', 'count') # Quantidade de datas distribuídas\n",
    "        ).reset_index()\n",
    "    \n",
    "    # Calcular baixados no ano\n",
    "    baixados_no_ano = df_comarca[\n",
    "        (df_comarca['data_baixa'].dt.year == ano_selecionado) & \n",
    "        (df_comarca['data_baixa'].notnull())\n",
    "    ]\n",
    "                \n",
    "    # Agrupar baixados da mesma forma que os distribuídos\n",
    "    baixados_por_area = baixados_no_ano.groupby(\n",
    "        ['nome_area_acao']\n",
    "        ).size()\n",
    "                \n",
    "    # Mesclar corretamente com estatisticas\n",
    "\n",
    "    estatisticas = estatisticas.merge(\n",
    "        baixados_por_area.rename('Baixados'), \n",
    "        on=['nome_area_acao'], \n",
    "        how='left'\n",
    "        ).fillna(0).astype({'Baixados': 'int'})\n",
    "                \n",
    "    # Calcular pendentes\n",
    "    pendentes_por_area = df_ano[df_ano['data_baixa'].isnull()].groupby(\n",
    "        ['nome_area_acao']\n",
    "        ).size()\n",
    "                \n",
    "    estatisticas = estatisticas.merge(\n",
    "        pendentes_por_area.rename('Pendentes'), \n",
    "        on=['nome_area_acao'], \n",
    "        how='left'\n",
    "        ).fillna(0).astype({'Pendentes': 'int'})\n",
    "    \n",
    "    print (pendentes_por_area)\n",
    "            \n",
    "    # Calcular taxa de congestionamento no ano\n",
    "    estatisticas['Taxa de Congestionamento (%)'] = (\n",
    "        (estatisticas['Pendentes'] / (estatisticas['Pendentes'] + estatisticas['Baixados'])) * 100\n",
    "        ).round(2)\n",
    "\n",
    "    # Adicionar linha de totais\n",
    "    totais = {\n",
    "        'nome_area_acao': 'TOTAL',\n",
    "        'nome_assunto':'',\n",
    "        'Distribuídos': estatisticas['Distribuídos'].sum(),\n",
    "        'Baixados': estatisticas['Baixados'].sum(),\n",
    "        'Pendentes': estatisticas['Pendentes'].sum(),\n",
    "    }\n",
    "    \n",
    "    # Evitar divisão por zero\n",
    "    if (totais['Pendentes'] + totais['Baixados']) > 0:\n",
    "        totais['Taxa de Congestionamento (%)'] = round(\n",
    "        (totais['Pendentes'] / (totais['Pendentes'] + totais['Baixados'])) * 100, 2\n",
    "    )\n",
    "    else:\n",
    "        totais['Taxa de Congestionamento (%)'] = 0.00\n",
    "    \n",
    "    return estatisticas\n"
   ]
  },
  {
   "cell_type": "markdown",
   "id": "3f39b6fc",
   "metadata": {},
   "source": [
    "Gráfico"
   ]
  }
 ],
 "metadata": {
  "kernelspec": {
   "display_name": ".venv",
   "language": "python",
   "name": "python3"
  },
  "language_info": {
   "codemirror_mode": {
    "name": "ipython",
    "version": 3
   },
   "file_extension": ".py",
   "mimetype": "text/x-python",
   "name": "python",
   "nbconvert_exporter": "python",
   "pygments_lexer": "ipython3",
   "version": "3.9.13"
  }
 },
 "nbformat": 4,
 "nbformat_minor": 5
}
